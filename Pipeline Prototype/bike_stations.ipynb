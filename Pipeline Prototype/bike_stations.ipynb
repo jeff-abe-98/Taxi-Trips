{
 "cells": [
  {
   "cell_type": "code",
   "execution_count": 14,
   "metadata": {},
   "outputs": [],
   "source": [
    "import numpy as np\n",
    "import pandas as pd\n",
    "from shapely.geometry import Point\n",
    "from shapely.geometry.polygon import Polygon"
   ]
  },
  {
   "cell_type": "code",
   "execution_count": 4,
   "metadata": {},
   "outputs": [],
   "source": [
    "bike_trips = pd.read_csv('D:\\\\Capstone Data\\\\2014citibike\\\\2014-01 - Citi Bike trip data.csv')"
   ]
  },
  {
   "cell_type": "code",
   "execution_count": 15,
   "metadata": {},
   "outputs": [],
   "source": [
    "regions = pd.read_csv('D:\\\\Capstone Data\\\\taxizones.csv')"
   ]
  },
  {
   "cell_type": "code",
   "execution_count": 34,
   "metadata": {},
   "outputs": [],
   "source": [
    "\n",
    "def extract_bike_stations(bike_trips, region_polygons, distinct_stations = {'station id':[], 'station name':[], 'station latitude':[], 'station longitude':[], 'station zone':[]}):\n",
    "    '''\n",
    "    Function to extract the distinct bike locations from citi bike trips data, and attribute each station a zone from the taxi zones\n",
    "\n",
    "    Args:\n",
    "        bike_trips (pd.DataFrame): DataFrame with bike trip data\n",
    "        region_polygons (dict): dictionary with taxi zone id's as the keys and polygon objects as the values\n",
    "        distinct_stations (dict): dictionary containing stations and their information, defaults to blank dictionary structure\n",
    "\n",
    "    Returns:\n",
    "        dict: A processed version of distinct_stations, with the addition of any newly encountered station id's\n",
    "    '''\n",
    "\n",
    "    for _, row in bike_trips.iterrows():\n",
    "        if row.loc['start station id'] not in distinct_stations['station id']:\n",
    "            distinct_stations['station id'].append(row.loc['start station id'])\n",
    "            distinct_stations['station name'].append(row.loc['start station name'])\n",
    "            distinct_stations['station latitude'].append(row.loc['start station latitude'])\n",
    "            distinct_stations['station longitude'].append(row.loc['start station longitude'])\n",
    "\n",
    "            s_point = Point(row.loc['start station longitude'], row.loc['start station latitude'])\n",
    "            zone_set = False\n",
    "            for zone, poly in region_polygons.items():\n",
    "                if poly.contains(s_point):\n",
    "                    distinct_stations['station zone'].append(zone)\n",
    "                    zone_set = True\n",
    "                    break\n",
    "            if not zone_set:\n",
    "                distinct_stations['station zone'].append(np.nan)\n",
    "        if row.loc['end station id'] not in distinct_stations['station id']:\n",
    "            distinct_stations['station id'].append(row.loc['end station id'])\n",
    "            distinct_stations['station name'].append(row.loc['end station name'])\n",
    "            distinct_stations['station latitude'].append(row.loc['end station latitude'])\n",
    "            distinct_stations['station longitude'].append(row.loc['end station longitude'])\n",
    "\n",
    "            e_point = Point(row.loc['end station longitude'], row.loc['end station latitude'])\n",
    "            zone_set = False\n",
    "            for zone, poly in region_polygons.items():\n",
    "                if poly.contains(e_point):\n",
    "                    distinct_stations['station zone'].append(zone)\n",
    "                    zone_set = True\n",
    "                    break\n",
    "            if not zone_set:\n",
    "                distinct_stations['station zone'].append(np.nan)\n",
    "    \n",
    "    return distinct_stations"
   ]
  },
  {
   "cell_type": "code",
   "execution_count": 35,
   "metadata": {},
   "outputs": [],
   "source": [
    "region_polygons = {}\n",
    "\n",
    "for _, row in regions.iterrows():\n",
    "    poly = eval(row.loc['the_geom'])['coordinates'][0][0]\n",
    "    region_polygons[row.loc['location_id']] = Polygon(poly)\n",
    "\n",
    "\n",
    "distinct_stations = extract_bike_stations(bike_trips, region_polygons)"
   ]
  },
  {
   "cell_type": "code",
   "execution_count": 36,
   "metadata": {},
   "outputs": [
    {
     "name": "stdout",
     "output_type": "stream",
     "text": [
      "station id 329\n",
      "station name 329\n",
      "station latitude 329\n",
      "station longitude 329\n",
      "station zone 329\n"
     ]
    }
   ],
   "source": [
    "for (key, items) in distinct_stations.items():\n",
    "    print(key, len(items))"
   ]
  },
  {
   "cell_type": "code",
   "execution_count": 37,
   "metadata": {},
   "outputs": [],
   "source": [
    "bike_stations = pd.DataFrame(distinct_stations)\n",
    "bike_stations.set_index('station id', inplace=True)"
   ]
  },
  {
   "cell_type": "code",
   "execution_count": 39,
   "metadata": {},
   "outputs": [
    {
     "data": {
      "text/html": [
       "<div>\n",
       "<style scoped>\n",
       "    .dataframe tbody tr th:only-of-type {\n",
       "        vertical-align: middle;\n",
       "    }\n",
       "\n",
       "    .dataframe tbody tr th {\n",
       "        vertical-align: top;\n",
       "    }\n",
       "\n",
       "    .dataframe thead th {\n",
       "        text-align: right;\n",
       "    }\n",
       "</style>\n",
       "<table border=\"1\" class=\"dataframe\">\n",
       "  <thead>\n",
       "    <tr style=\"text-align: right;\">\n",
       "      <th></th>\n",
       "      <th>station name</th>\n",
       "      <th>station latitude</th>\n",
       "      <th>station longitude</th>\n",
       "      <th>station zone</th>\n",
       "    </tr>\n",
       "    <tr>\n",
       "      <th>station id</th>\n",
       "      <th></th>\n",
       "      <th></th>\n",
       "      <th></th>\n",
       "      <th></th>\n",
       "    </tr>\n",
       "  </thead>\n",
       "  <tbody>\n",
       "  </tbody>\n",
       "</table>\n",
       "</div>"
      ],
      "text/plain": [
       "Empty DataFrame\n",
       "Columns: [station name, station latitude, station longitude, station zone]\n",
       "Index: []"
      ]
     },
     "execution_count": 39,
     "metadata": {},
     "output_type": "execute_result"
    }
   ],
   "source": [
    "bike_stations[bike_stations['station zone']==np.nan]"
   ]
  },
  {
   "cell_type": "code",
   "execution_count": 40,
   "metadata": {},
   "outputs": [
    {
     "data": {
      "text/html": [
       "<div>\n",
       "<style scoped>\n",
       "    .dataframe tbody tr th:only-of-type {\n",
       "        vertical-align: middle;\n",
       "    }\n",
       "\n",
       "    .dataframe tbody tr th {\n",
       "        vertical-align: top;\n",
       "    }\n",
       "\n",
       "    .dataframe thead th {\n",
       "        text-align: right;\n",
       "    }\n",
       "</style>\n",
       "<table border=\"1\" class=\"dataframe\">\n",
       "  <thead>\n",
       "    <tr style=\"text-align: right;\">\n",
       "      <th></th>\n",
       "      <th>station name</th>\n",
       "      <th>station latitude</th>\n",
       "      <th>station longitude</th>\n",
       "      <th>station zone</th>\n",
       "    </tr>\n",
       "    <tr>\n",
       "      <th>station id</th>\n",
       "      <th></th>\n",
       "      <th></th>\n",
       "      <th></th>\n",
       "      <th></th>\n",
       "    </tr>\n",
       "  </thead>\n",
       "  <tbody>\n",
       "    <tr>\n",
       "      <td>2009</td>\n",
       "      <td>Catherine St &amp; Monroe St</td>\n",
       "      <td>40.711174</td>\n",
       "      <td>-73.996826</td>\n",
       "      <td>45.0</td>\n",
       "    </tr>\n",
       "    <tr>\n",
       "      <td>263</td>\n",
       "      <td>Elizabeth St &amp; Hester St</td>\n",
       "      <td>40.717290</td>\n",
       "      <td>-73.996375</td>\n",
       "      <td>144.0</td>\n",
       "    </tr>\n",
       "    <tr>\n",
       "      <td>536</td>\n",
       "      <td>1 Ave &amp; E 30 St</td>\n",
       "      <td>40.741444</td>\n",
       "      <td>-73.975361</td>\n",
       "      <td>137.0</td>\n",
       "    </tr>\n",
       "    <tr>\n",
       "      <td>259</td>\n",
       "      <td>South St &amp; Whitehall St</td>\n",
       "      <td>40.701221</td>\n",
       "      <td>-74.012342</td>\n",
       "      <td>88.0</td>\n",
       "    </tr>\n",
       "    <tr>\n",
       "      <td>228</td>\n",
       "      <td>E 48 St &amp; 3 Ave</td>\n",
       "      <td>40.754601</td>\n",
       "      <td>-73.971879</td>\n",
       "      <td>162.0</td>\n",
       "    </tr>\n",
       "  </tbody>\n",
       "</table>\n",
       "</div>"
      ],
      "text/plain": [
       "                        station name  station latitude  station longitude  \\\n",
       "station id                                                                  \n",
       "2009        Catherine St & Monroe St         40.711174         -73.996826   \n",
       "263         Elizabeth St & Hester St         40.717290         -73.996375   \n",
       "536                  1 Ave & E 30 St         40.741444         -73.975361   \n",
       "259          South St & Whitehall St         40.701221         -74.012342   \n",
       "228                  E 48 St & 3 Ave         40.754601         -73.971879   \n",
       "\n",
       "            station zone  \n",
       "station id                \n",
       "2009                45.0  \n",
       "263                144.0  \n",
       "536                137.0  \n",
       "259                 88.0  \n",
       "228                162.0  "
      ]
     },
     "execution_count": 40,
     "metadata": {},
     "output_type": "execute_result"
    }
   ],
   "source": [
    "bike_stations.head()"
   ]
  }
 ],
 "metadata": {
  "kernelspec": {
   "display_name": "base",
   "language": "python",
   "name": "python3"
  },
  "language_info": {
   "codemirror_mode": {
    "name": "ipython",
    "version": 3
   },
   "file_extension": ".py",
   "mimetype": "text/x-python",
   "name": "python",
   "nbconvert_exporter": "python",
   "pygments_lexer": "ipython3",
   "version": "3.7.4"
  }
 },
 "nbformat": 4,
 "nbformat_minor": 2
}
