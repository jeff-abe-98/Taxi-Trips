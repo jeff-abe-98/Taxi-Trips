{
 "cells": [
  {
   "cell_type": "code",
   "execution_count": 27,
   "metadata": {},
   "outputs": [],
   "source": [
    "from requests.auth import HTTPBasicAuth\n",
    "import yaml"
   ]
  },
  {
   "cell_type": "code",
   "execution_count": 28,
   "metadata": {},
   "outputs": [],
   "source": [
    "import data_collection as dc"
   ]
  },
  {
   "cell_type": "code",
   "execution_count": 29,
   "metadata": {},
   "outputs": [],
   "source": [
    "with open('NYC_open_data_token.yaml','r') as file:\n",
    "    keys = yaml.safe_load(file)"
   ]
  },
  {
   "cell_type": "code",
   "execution_count": 30,
   "metadata": {},
   "outputs": [],
   "source": [
    "key = keys['api_key_id']\n",
    "secret = keys['api_key_secret']"
   ]
  },
  {
   "cell_type": "code",
   "execution_count": 31,
   "metadata": {},
   "outputs": [],
   "source": [
    "auth = HTTPBasicAuth(key, secret)"
   ]
  },
  {
   "cell_type": "code",
   "execution_count": 32,
   "metadata": {},
   "outputs": [
    {
     "name": "stdout",
     "output_type": "stream",
     "text": [
      "First 100000 rows pulled and written\n",
      "16100000 OK\r"
     ]
    },
    {
     "data": {
      "text/plain": [
       "'2554927351 Bytes written to D:/Capstone Data/greentaxi2014.csv'"
      ]
     },
     "execution_count": 32,
     "metadata": {},
     "output_type": "execute_result"
    }
   ],
   "source": [
    "#Green Taxi Data 2014\n",
    "dc.batch_api_call_mp('https://data.cityofnewyork.us/resource/2np7-5jsg.json', auth, 'D:/Capstone Data/greentaxi2014.csv',100000,concurrency=10)"
   ]
  },
  {
   "cell_type": "code",
   "execution_count": 15,
   "metadata": {},
   "outputs": [
    {
     "name": "stdout",
     "output_type": "stream",
     "text": [
      "First 1000000 rows pulled and written\n",
      "171000000 OK\r"
     ]
    },
    {
     "data": {
      "text/plain": [
       "'29175435508 Bytes written to D:/Capstone Data/yellowtaxi2014.csv'"
      ]
     },
     "execution_count": 15,
     "metadata": {},
     "output_type": "execute_result"
    }
   ],
   "source": [
    "#Yellow Taxi Data 2014\n",
    "dc.batch_api_call_mp('https://data.cityofnewyork.us/resource/gkne-dk5s.json', auth, 'D:/Capstone Data/yellowtaxi2014.csv',1000000,concurrency=10)"
   ]
  },
  {
   "cell_type": "code",
   "execution_count": 6,
   "metadata": {},
   "outputs": [
    {
     "name": "stdout",
     "output_type": "stream",
     "text": [
      "First 100 rows pulled and written\n",
      "1100 OK\r"
     ]
    },
    {
     "data": {
      "text/plain": [
       "'4057313 Bytes written to D:/Capstone Data/taxizones.csv'"
      ]
     },
     "execution_count": 6,
     "metadata": {},
     "output_type": "execute_result"
    }
   ],
   "source": [
    "#Taxi Regions\n",
    "dc.batch_api_call_mp('https://data.cityofnewyork.us/resource/755u-8jsi.json', auth, 'D:/Capstone Data/taxizones.csv', limit = 100)"
   ]
  }
 ],
 "metadata": {
  "kernelspec": {
   "display_name": "base",
   "language": "python",
   "name": "python3"
  },
  "language_info": {
   "codemirror_mode": {
    "name": "ipython",
    "version": 3
   },
   "file_extension": ".py",
   "mimetype": "text/x-python",
   "name": "python",
   "nbconvert_exporter": "python",
   "pygments_lexer": "ipython3",
   "version": "3.7.4"
  }
 },
 "nbformat": 4,
 "nbformat_minor": 2
}
